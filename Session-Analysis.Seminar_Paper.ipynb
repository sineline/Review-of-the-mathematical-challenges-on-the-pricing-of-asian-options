{
 "cells": [
  {
   "cell_type": "code",
   "execution_count": null,
   "metadata": {
    "collapsed": true
   },
   "outputs": [],
   "source": [
    "import sys,pandas as pd\n",
    "import numpy as np\n",
    "import math\n",
    "import matplotlib\n",
    "%matplotlib inline\n",
    "import pylab\n",
    "import matplotlib.pyplot as plt\n",
    "from pylab import rcParams\n",
    "rcParams['figure.figsize'] = 25, 10"
   ]
  },
  {
   "cell_type": "code",
   "execution_count": null,
   "metadata": {
    "collapsed": false
   },
   "outputs": [],
   "source": [
    "session_id = '7549a7df-21f9-4385-be04-f1fd96f0842b'\n",
    "Payoffs_Evolution_Without_Antithetic = pd.read_csv('output/'+session_id+'_payoffs.csv',sep=\"\\t\",index_col='Unnamed: 0')\n",
    "Payoffs_Evolution_Antithetic = pd.read_csv('output/'+session_id+'_payoffsAT.csv',sep=\"\\t\",index_col='Unnamed: 0')\n",
    "Payoffs_Evolution = pd.DataFrame()\n",
    "Payoffs_Evolution['Regular'] = Payoffs_Evolution_Without_Antithetic\n",
    "Payoffs_Evolution['Antithetic'] = Payoffs_Evolution_Antithetic"
   ]
  },
  {
   "cell_type": "code",
   "execution_count": null,
   "metadata": {
    "collapsed": false
   },
   "outputs": [],
   "source": [
    "Payoffs_Evolution.head(5)"
   ]
  },
  {
   "cell_type": "code",
   "execution_count": null,
   "metadata": {
    "collapsed": false
   },
   "outputs": [],
   "source": [
    "fig2, ax = plt.subplots()\n",
    "ax.plot(Payoffs_Evolution['Regular'], label=\"BlackScholes Payoff\")\n",
    "ax.plot(Payoffs_Evolution['Antithetic'], label=\"BlackScholes Antithetic Payoff\")\n",
    "plt.legend(bbox_to_anchor=(1.05, 1), loc=10, borderaxespad=0.)\n",
    "plt.show()"
   ]
  },
  {
   "cell_type": "code",
   "execution_count": null,
   "metadata": {
    "collapsed": true
   },
   "outputs": [],
   "source": [
    "Means_Aggregates = pd.DataFrame()"
   ]
  },
  {
   "cell_type": "code",
   "execution_count": null,
   "metadata": {
    "collapsed": false
   },
   "outputs": [],
   "source": [
    "for index, row in Payoffs_Evolution.iterrows():  \n",
    "    mean = (float(row['Regular']) + float(row['Antithetic']))/2\n",
    "    Payoffs_Evolution.set_value(index, 'ATMean_T', mean)"
   ]
  },
  {
   "cell_type": "code",
   "execution_count": null,
   "metadata": {
    "collapsed": false
   },
   "outputs": [],
   "source": [
    "Payoffs_Evolution['RegularMean'] = Payoffs_Evolution['Regular'].expanding(min_periods=1).mean()\n",
    "Payoffs_Evolution['ATMean'] = Payoffs_Evolution['ATMean_T'].expanding(min_periods=1).mean()"
   ]
  },
  {
   "cell_type": "code",
   "execution_count": null,
   "metadata": {
    "collapsed": false
   },
   "outputs": [],
   "source": [
    "Payoffs_Evolution['RegularVar'] = Payoffs_Evolution['Regular'].expanding(min_periods=1).var()\n",
    "Payoffs_Evolution['ATVar'] = Payoffs_Evolution['Antithetic'].expanding(min_periods=1).var()"
   ]
  },
  {
   "cell_type": "code",
   "execution_count": null,
   "metadata": {
    "collapsed": false
   },
   "outputs": [],
   "source": [
    "np.var(Payoffs_Evolution['Antithetic'])"
   ]
  },
  {
   "cell_type": "code",
   "execution_count": null,
   "metadata": {
    "collapsed": false
   },
   "outputs": [],
   "source": [
    "np.var(Payoffs_Evolution['Regular'])"
   ]
  },
  {
   "cell_type": "code",
   "execution_count": null,
   "metadata": {
    "collapsed": false
   },
   "outputs": [],
   "source": [
    "# Do we manage to reduce the variance when we apply Antithetic variance reduction methods?\n",
    "np.var(Payoffs_Evolution['Antithetic'])<np.var(Payoffs_Evolution['Regular'])"
   ]
  },
  {
   "cell_type": "code",
   "execution_count": null,
   "metadata": {
    "collapsed": false,
    "scrolled": true
   },
   "outputs": [],
   "source": [
    "Payoffs_Evolution.tail(5)"
   ]
  },
  {
   "cell_type": "code",
   "execution_count": null,
   "metadata": {
    "collapsed": false
   },
   "outputs": [],
   "source": [
    "fig2, ax = plt.subplots()\n",
    "ax.plot(Payoffs_Evolution['ATMean'], label=\"BlackScholes Antithetic Payoff\")\n",
    "ax.plot(Payoffs_Evolution['RegularMean'], label=\"BlackScholes Payoff\")\n",
    "\n",
    "plt.legend(bbox_to_anchor=(1.05, 1), loc=10, borderaxespad=0.)\n",
    "plt.ylim([5.9,6.4])\n",
    "plt.show()"
   ]
  },
  {
   "cell_type": "code",
   "execution_count": null,
   "metadata": {
    "collapsed": true
   },
   "outputs": [],
   "source": []
  }
 ],
 "metadata": {
  "kernelspec": {
   "display_name": "Python 2",
   "language": "python",
   "name": "python2"
  },
  "language_info": {
   "codemirror_mode": {
    "name": "ipython",
    "version": 2
   },
   "file_extension": ".py",
   "mimetype": "text/x-python",
   "name": "python",
   "nbconvert_exporter": "python",
   "pygments_lexer": "ipython2",
   "version": "2.7.9"
  }
 },
 "nbformat": 4,
 "nbformat_minor": 0
}
